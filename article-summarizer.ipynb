{
 "cells": [
  {
   "cell_type": "markdown",
   "metadata": {},
   "source": [
    "# Web Mining and Applied NLP (44-620)\n",
    "\n",
    "## Final Custom Project 7\n",
    "\n",
    "### Student Name: Deb St. Cyr\n",
    "Link to GitHub:\n",
    "\n",
    "Perform the tasks described in the Markdown cells below.  When you have completed the assignment make sure your code cells have all been run (and have output beneath them) and ensure you have committed and pushed ALL of your changes to your assignment repository.\n",
    "\n",
    "You should bring in code from previous assignments to help you answer the questions below.\n",
    "\n",
    "Every question that requires you to write code will have a code cell underneath it; you may either write your entire solution in that cell or write it in a python file (`.py`), then import and run the appropriate code to answer the question."
   ]
  },
  {
   "cell_type": "code",
   "execution_count": 3,
   "metadata": {},
   "outputs": [
    {
     "name": "stdout",
     "output_type": "stream",
     "text": [
      "All the requirements are installed\n",
      "Package                   Version\n",
      "------------------------- --------------\n",
      "annotated-types           0.7.0\n",
      "anyio                     4.6.2.post1\n",
      "argon2-cffi               23.1.0\n",
      "argon2-cffi-bindings      21.2.0\n",
      "arrow                     1.3.0\n",
      "asttokens                 3.0.0\n",
      "async-lru                 2.0.4\n",
      "attrs                     24.2.0\n",
      "babel                     2.16.0\n",
      "beautifulsoup4            4.12.3\n",
      "bleach                    6.2.0\n",
      "blis                      1.0.1\n",
      "catalogue                 2.0.10\n",
      "certifi                   2024.8.30\n",
      "cffi                      1.17.1\n",
      "charset-normalizer        3.4.0\n",
      "click                     8.1.7\n",
      "cloudpathlib              0.20.0\n",
      "colorama                  0.4.6\n",
      "comm                      0.2.2\n",
      "confection                0.1.5\n",
      "contourpy                 1.3.1\n",
      "cycler                    0.12.1\n",
      "cymem                     2.0.10\n",
      "debugpy                   1.8.9\n",
      "decorator                 5.1.1\n",
      "defusedxml                0.7.1\n",
      "en_core_web_sm            3.8.0\n",
      "executing                 2.1.0\n",
      "fastjsonschema            2.21.1\n",
      "fonttools                 4.55.0\n",
      "fqdn                      1.5.1\n",
      "h11                       0.14.0\n",
      "html5lib                  1.1\n",
      "httpcore                  1.0.7\n",
      "httpx                     0.28.0\n",
      "idna                      3.10\n",
      "ipykernel                 6.29.5\n",
      "ipython                   8.30.0\n",
      "ipywidgets                8.1.5\n",
      "isoduration               20.11.0\n",
      "jedi                      0.19.2\n",
      "Jinja2                    3.1.4\n",
      "joblib                    1.4.2\n",
      "json5                     0.10.0\n",
      "jsonpointer               3.0.0\n",
      "jsonschema                4.23.0\n",
      "jsonschema-specifications 2024.10.1\n",
      "jupyter                   1.1.1\n",
      "jupyter_client            8.6.3\n",
      "jupyter-console           6.6.3\n",
      "jupyter_core              5.7.2\n",
      "jupyter-events            0.10.0\n",
      "jupyter-lsp               2.2.5\n",
      "jupyter_server            2.14.2\n",
      "jupyter_server_terminals  0.5.3\n",
      "jupyterlab                4.2.6\n",
      "jupyterlab_pygments       0.3.0\n",
      "jupyterlab_server         2.27.3\n",
      "jupyterlab_widgets        3.0.13\n",
      "kiwisolver                1.4.7\n",
      "langcodes                 3.5.0\n",
      "language_data             1.3.0\n",
      "marisa-trie               1.2.1\n",
      "markdown-it-py            3.0.0\n",
      "MarkupSafe                3.0.2\n",
      "matplotlib                3.9.3\n",
      "matplotlib-inline         0.1.7\n",
      "mdurl                     0.1.2\n",
      "mistune                   3.0.2\n",
      "murmurhash                1.0.11\n",
      "nbclient                  0.10.1\n",
      "nbconvert                 7.16.4\n",
      "nbformat                  5.10.4\n",
      "nest-asyncio              1.6.0\n",
      "nltk                      3.9.1\n",
      "notebook                  7.2.2\n",
      "notebook_shim             0.2.4\n",
      "numpy                     2.0.2\n",
      "overrides                 7.7.0\n",
      "packaging                 24.2\n",
      "pandocfilters             1.5.1\n",
      "parso                     0.8.4\n",
      "pillow                    11.0.0\n",
      "pip                       24.3.1\n",
      "platformdirs              4.3.6\n",
      "preshed                   3.0.9\n",
      "prometheus_client         0.21.0\n",
      "prompt_toolkit            3.0.48\n",
      "psutil                    6.1.0\n",
      "pure_eval                 0.2.3\n",
      "pycparser                 2.22\n",
      "pydantic                  2.10.2\n",
      "pydantic_core             2.27.1\n",
      "Pygments                  2.18.0\n",
      "pyparsing                 3.2.0\n",
      "python-dateutil           2.9.0.post0\n",
      "python-json-logger        2.0.7\n",
      "pywin32                   308\n",
      "pywinpty                  2.0.14\n",
      "PyYAML                    6.0.2\n",
      "pyzmq                     26.2.0\n",
      "referencing               0.35.1\n",
      "regex                     2024.11.6\n",
      "requests                  2.32.3\n",
      "rfc3339-validator         0.1.4\n",
      "rfc3986-validator         0.1.1\n",
      "rich                      13.9.4\n",
      "rpds-py                   0.22.0\n",
      "Send2Trash                1.8.3\n",
      "setuptools                75.6.0\n",
      "shellingham               1.5.4\n",
      "six                       1.16.0\n",
      "smart-open                7.0.5\n",
      "sniffio                   1.3.1\n",
      "soupsieve                 2.6\n",
      "spacy                     3.8.2\n",
      "spacy-legacy              3.0.12\n",
      "spacy-loggers             1.0.5\n",
      "spacytextblob             5.0.0\n",
      "srsly                     2.4.8\n",
      "stack-data                0.6.3\n",
      "terminado                 0.18.1\n",
      "textblob                  0.18.0.post0\n",
      "thinc                     8.3.2\n",
      "tinycss2                  1.4.0\n",
      "tornado                   6.4.2\n",
      "tqdm                      4.67.1\n",
      "traitlets                 5.14.3\n",
      "typer                     0.14.0\n",
      "types-python-dateutil     2.9.0.20241003\n",
      "typing_extensions         4.12.2\n",
      "uri-template              1.3.0\n",
      "urllib3                   2.2.3\n",
      "wasabi                    1.1.3\n",
      "wcwidth                   0.2.13\n",
      "weasel                    0.4.1\n",
      "webcolors                 24.11.1\n",
      "webencodings              0.5.1\n",
      "websocket-client          1.8.0\n",
      "wheel                     0.45.1\n",
      "widgetsnbextension        4.0.13\n",
      "wrapt                     1.17.0\n"
     ]
    }
   ],
   "source": [
    "import json\n",
    "import pickle\n",
    "\n",
    "import requests\n",
    "import spacy\n",
    "\n",
    "print('All the requirements are installed')\n",
    "!pip list"
   ]
  },
  {
   "cell_type": "markdown",
   "metadata": {},
   "source": [
    "## Question 1"
   ]
  },
  {
   "cell_type": "markdown",
   "metadata": {},
   "source": [
    "Find on the internet an article or blog post about a topic that interests you and you are able to get the text for using the technologies we have applied in the course.  Get the html for the article and store it in a file (which you must submit with your project)"
   ]
  },
  {
   "cell_type": "code",
   "execution_count": null,
   "metadata": {},
   "outputs": [
    {
     "name": "stdout",
     "output_type": "stream",
     "text": [
      "Collecting requests\n",
      "  Using cached requests-2.32.3-py3-none-any.whl.metadata (4.6 kB)\n",
      "Collecting charset-normalizer<4,>=2 (from requests)\n",
      "  Using cached charset_normalizer-3.4.0-cp312-cp312-win_amd64.whl.metadata (34 kB)\n",
      "Collecting idna<4,>=2.5 (from requests)\n",
      "  Using cached idna-3.10-py3-none-any.whl.metadata (10 kB)\n",
      "Collecting urllib3<3,>=1.21.1 (from requests)\n",
      "  Using cached urllib3-2.2.3-py3-none-any.whl.metadata (6.5 kB)\n",
      "Collecting certifi>=2017.4.17 (from requests)\n",
      "  Using cached certifi-2024.8.30-py3-none-any.whl.metadata (2.2 kB)\n",
      "Using cached requests-2.32.3-py3-none-any.whl (64 kB)\n",
      "Using cached certifi-2024.8.30-py3-none-any.whl (167 kB)\n",
      "Using cached charset_normalizer-3.4.0-cp312-cp312-win_amd64.whl (102 kB)\n",
      "Using cached idna-3.10-py3-none-any.whl (70 kB)\n",
      "Using cached urllib3-2.2.3-py3-none-any.whl (126 kB)\n",
      "Installing collected packages: urllib3, idna, charset-normalizer, certifi, requests\n",
      "Successfully installed certifi-2024.8.30 charset-normalizer-3.4.0 idna-3.10 requests-2.32.3 urllib3-2.2.3\n"
     ]
    },
    {
     "name": "stderr",
     "output_type": "stream",
     "text": [
      "\n",
      "[notice] A new release of pip is available: 24.0 -> 24.3.1\n",
      "[notice] To update, run: python.exe -m pip install --upgrade pip\n"
     ]
    }
   ],
   "source": [
    "!pip install  requests"
   ]
  },
  {
   "cell_type": "code",
   "execution_count": 4,
   "metadata": {},
   "outputs": [
    {
     "name": "stdout",
     "output_type": "stream",
     "text": [
      "Lyrics saved tosong_lyrics\\Band  On The Run.json\n"
     ]
    }
   ],
   "source": [
    "import requests\n",
    "import json\n",
    "import os\n",
    "import spacy\n",
    "from spacytextblob.spacytextblob import SpacyTextBlob\n",
    "\n",
    "\n",
    "result = json.loads(requests.get('https://api.lyrics.ovh/v1/Paul McCartney/Band On The Run').text)\n",
    "\n",
    "# Create a folder and file path\n",
    "folder_name = 'song_lyrics'\n",
    "file_name = 'Band  On The Run.json'\n",
    "\n",
    "# If folder does not exist, create one\n",
    "if not os.path.exists(folder_name):\n",
    "    os.makedirs(folder_name)\n",
    "\n",
    "# Create path to file\n",
    "file_path = os.path.join(folder_name, file_name)\n",
    "\n",
    "# Write the JSON file result\n",
    "with open(file_path, 'w', encoding='utf-8') as file:\n",
    "    json.dump(result, file, ensure_ascii=False, indent=4)\n",
    "    \n",
    "print(f\"Lyrics saved to{file_path}\")"
   ]
  },
  {
   "cell_type": "markdown",
   "metadata": {},
   "source": [
    "## Question 2"
   ]
  },
  {
   "cell_type": "markdown",
   "metadata": {},
   "source": [
    "Read in your article's html source from the file you created in question 1 and do sentiment analysis on the article/post's text (use `.get_text()`).  Print the polarity score with an appropriate label.  Additionally print the number of sentences in the original article (with an appropriate label)"
   ]
  },
  {
   "cell_type": "code",
   "execution_count": 10,
   "metadata": {},
   "outputs": [
    {
     "name": "stdout",
     "output_type": "stream",
     "text": [
      "Polarity Score: 0.18055555555555558\n",
      "The score is closer to 1. The lyrics have a more positive sentiment.\n",
      "Number of Sentences: 14\n"
     ]
    }
   ],
   "source": [
    "import spacy\n",
    "from spacytextblob.spacytextblob import SpacyTextBlob\n",
    "import requests\n",
    "import json\n",
    "\n",
    "# Load spaCy\n",
    "nlp = spacy.load(\"en_core_web_sm\")\n",
    "\n",
    "# Add spacytextblob to pipeline\n",
    "nlp.add_pipe(\"spacytextblob\")\n",
    "\n",
    "# Get the lyrics from the API and process them\n",
    "response = requests.get('https://api.lyrics.ovh/v1/Paul McCartney/Band On The Run')\n",
    "result = json.loads(response.text)\n",
    "\n",
    "# Extract lyrics text from the API response\n",
    "lyrics = result.get(\"lyrics\", \"\")  # Fallback to an empty string if 'lyrics' key is missing\n",
    "\n",
    "if lyrics:\n",
    "    # Process the lyrics with spaCy\n",
    "    doc = nlp(lyrics)\n",
    "\n",
    "    # Sentiment Analysis\n",
    "    polarity_score = doc._.blob.polarity\n",
    "\n",
    "    # Print polarity score with an appropriate label\n",
    "    print(\"Polarity Score:\", polarity_score)\n",
    "\n",
    "    if polarity_score > 0:\n",
    "        print(\"The score is closer to 1. The lyrics have a more positive sentiment.\")\n",
    "    elif polarity_score < 0:\n",
    "        print(\"The score is closer to -1. The lyrics have a more negative sentiment.\")\n",
    "    else:\n",
    "        print(\"The score is 0. The lyrics have a neutral sentiment.\")\n",
    "\n",
    "    # Count the number of sentences in the lyrics\n",
    "    num_sentences = len(list(doc.sents))\n",
    "    print(\"Number of Sentences:\", num_sentences)\n",
    "\n",
    "else:\n",
    "    print(\"Could not retrieve lyrics from the API.\")"
   ]
  },
  {
   "cell_type": "markdown",
   "metadata": {},
   "source": [
    "## Question 3"
   ]
  },
  {
   "cell_type": "markdown",
   "metadata": {},
   "source": [
    "Load the article text into a trained `spaCy` pipeline, and determine the 5 most frequent tokens (converted to lower case).  Print the common tokens with an appropriate label.  Additionally, print the tokens their frequencies (with appropriate labels)"
   ]
  },
  {
   "cell_type": "code",
   "execution_count": null,
   "metadata": {},
   "outputs": [
    {
     "name": "stdout",
     "output_type": "stream",
     "text": [
      "5 Most Common Tokens in the Lyrics:\n",
      "The token 'run' has a frequency of 20\n",
      "The token 'band' has a frequency of 19\n",
      "The token 'searching' has a frequency of 3\n",
      "The token 'inside' has a frequency of 2\n",
      "The token 'seeing' has a frequency of 2\n"
     ]
    }
   ],
   "source": [
    "import requests\n",
    "import spacy\n",
    "from collections import Counter\n",
    "\n",
    "# Grab lyrics from the API\n",
    "response = requests.get('https://api.lyrics.ovh/v1/Paul McCartney/Band On The Run')\n",
    "result = response.json()  # Parse the JSON response\n",
    "lyrics_text = result.get(\"lyrics\", \"\")  # Get the lyrics from the JSON response\n",
    "\n",
    "# Ensure we have the lyrics text\n",
    "if not lyrics_text:\n",
    "    print(\"Failed to retrieve lyrics from the API.\")\n",
    "else:\n",
    "    # Load spaCy pipeline\n",
    "    nlp = spacy.load(\"en_core_web_sm\")\n",
    "\n",
    "    # Process the lyrics text\n",
    "    article = nlp(lyrics_text)\n",
    "\n",
    "    # Filter out punctuation, whitespace, and stopwords\n",
    "    tokens = [\n",
    "        token.text.lower() for token in article \n",
    "        if not token.is_punct and not token.is_stop and not token.is_space\n",
    "    ]\n",
    "\n",
    "    # Count the 5 most common tokens\n",
    "    token_counts = Counter(tokens)\n",
    "    common_tokens = token_counts.most_common(5)\n",
    "\n",
    "    # Print the 5 most common tokens and their frequencies\n",
    "    print(\"5 Most Common Tokens in the Lyrics:\")\n",
    "    for token, freq in common_tokens:\n",
    "        print(f\"The token '{token}' has a frequency of {freq}\")\n"
   ]
  },
  {
   "cell_type": "markdown",
   "metadata": {},
   "source": [
    "## Question 4"
   ]
  },
  {
   "cell_type": "markdown",
   "metadata": {},
   "source": [
    "Load the article text into a trained `spaCy` pipeline, and determine the 5 most frequent lemmas (converted to lower case).  Print the common lemmas with an appropriate label.  Additionally, print the lemmas with their frequencies (with appropriate labels)."
   ]
  },
  {
   "cell_type": "code",
   "execution_count": 12,
   "metadata": {},
   "outputs": [
    {
     "name": "stdout",
     "output_type": "stream",
     "text": [
      "5 Most Common Lemmas in the Article:\n",
      "The lemma 'run' has a frequency of 20\n",
      "The lemma 'band' has a frequency of 19\n",
      "The lemma 'search' has a frequency of 4\n",
      "The lemma 'inside' has a frequency of 2\n",
      "The lemma 'see' has a frequency of 2\n"
     ]
    }
   ],
   "source": [
    "import requests\n",
    "import spacy\n",
    "from collections import Counter\n",
    "\n",
    "# Grab lyrics from the API\n",
    "response = requests.get('https://api.lyrics.ovh/v1/Paul McCartney/Band On The Run')\n",
    "result = response.json()  # Parse the JSON response\n",
    "lyrics_text = result.get(\"lyrics\", \"\")  # Get the lyrics from the JSON response\n",
    "\n",
    "# Make sure the text lyrics are there\n",
    "if not lyrics_text:\n",
    "    print(\"Failed to retrieve lyrics from API\")\n",
    "else:\n",
    "    # Load the spaCy pipeline\n",
    "    nlp = spacy.load(\"en_core_web_sm\")\n",
    "    \n",
    "    # Process the article text\n",
    "    doc = nlp(lyrics_text)\n",
    "    \n",
    "    # Extract lemmas, excluding stopwords, punctuation, and whitespace\n",
    "    lemmas = [token.lemma_.lower() for token in doc if not token.is_punct and not token.is_stop and not token.is_space]\n",
    "    \n",
    "    # Count the lemmas\n",
    "    lemma_counts = Counter(lemmas)\n",
    "    \n",
    "    # Get the 5 most common lemmas\n",
    "    common_lemmas = lemma_counts.most_common(5)\n",
    "    \n",
    "    # Print the 5 most common lemmas with their frequencies\n",
    "    print(\"5 Most Common Lemmas in the Article:\")\n",
    "    for lemma, freq in common_lemmas:\n",
    "        print(f\"The lemma '{lemma}' has a frequency of {freq}\")"
   ]
  },
  {
   "cell_type": "markdown",
   "metadata": {},
   "source": [
    "## Question 5"
   ]
  },
  {
   "cell_type": "markdown",
   "metadata": {},
   "source": [
    "Make a list containing the scores (using tokens) of every sentence in the article, and plot a histogram with appropriate titles and axis labels of the scores. From your histogram, what seems to be the most common range of scores (put the answer in a comment after your code)?"
   ]
  },
  {
   "cell_type": "code",
   "execution_count": null,
   "metadata": {},
   "outputs": [
    {
     "data": {
      "image/png": "[encoded data removed]",
      "text/plain": [
       "<Figure size 800x500 with 1 Axes>"
      ]
     },
     "metadata": {},
     "output_type": "display_data"
    }
   ],
   "source": [
    "import requests\n",
    "import spacy\n",
    "import matplotlib.pyplot as plt\n",
    "from collections import Counter\n",
    "\n",
    "# Grab lyrics from the API\n",
    "response = requests.get('https://api.lyrics.ovh/v1/Paul McCartney/Band On The Run')\n",
    "result = response.json()  # Parse the JSON response\n",
    "lyrics_text = result.get(\"lyrics\", \"\")  # Get the lyrics from the JSON response\n",
    "\n",
    "# Load the spaCy pipeline\n",
    "nlp = spacy.load(\"en_core_web_sm\")\n",
    "doc = nlp(lyrics_text)\n",
    "\n",
    "# Define interesting tokens\n",
    "interesting_tokens = [\"run\", \"band\", \"search\", \"inside\", \"see\"]\n",
    "\n",
    "# Count frequency of interesting tokens in the text\n",
    "tokens = [token.text.lower() for token in doc if not token.is_space and not token.is_punct]\n",
    "token_counts = Counter(tokens)\n",
    "\n",
    "# Filter counts to include only interesting tokens\n",
    "filtered_counts = {token: token_counts[token] for token in interesting_tokens}\n",
    "\n",
    "# Plot horizontal bar chart\n",
    "plt.figure(figsize=(8, 5))\n",
    "plt.barh(list(filtered_counts.keys()), list(filtered_counts.values()), color='purple')\n",
    "plt.title(\"Frequency of Interesting Tokens\")\n",
    "plt.xlabel(\"Frequency\")\n",
    "plt.ylabel(\"Tokens\")\n",
    "plt.grid(axis=\"x\", linestyle=\"--\", alpha=0.7)\n",
    "plt.show()\n",
    "\n",
    "# The frequency of the words \"See\" is 0.0, \"inside\" is about 2, \"search\" is about 1,\n",
    "# \" band\" is around 18.8, and \"run\" is approximately 20."
   ]
  },
  {
   "cell_type": "markdown",
   "metadata": {},
   "source": [
    "## Question 6"
   ]
  },
  {
   "cell_type": "markdown",
   "metadata": {},
   "source": [
    "Make a list containing the scores (using lemmas) of every sentence in the article, and plot a histogram with appropriate titles and axis labels of the scores.  From your histogram, what seems to be the most common range of scores (put the answer in a comment after your code)?"
   ]
  },
  {
   "cell_type": "code",
   "execution_count": 18,
   "metadata": {},
   "outputs": [
    {
     "data": {
      "image/png": "[encoded data removed]",
      "text/plain": [
       "<Figure size 800x500 with 1 Axes>"
      ]
     },
     "metadata": {},
     "output_type": "display_data"
    }
   ],
   "source": [
    "import requests\n",
    "import spacy\n",
    "import matplotlib.pyplot as plt\n",
    "from collections import Counter\n",
    "\n",
    "# Grab lyrics from the API\n",
    "response = requests.get('https://api.lyrics.ovh/v1/Paul McCartney/Band On The Run')\n",
    "result = response.json()  # Parse the JSON response\n",
    "lyrics_text = result.get(\"lyrics\", \"\")  # Get the lyrics from the JSON response\n",
    "\n",
    "# Define interesting lemmas\n",
    "def score_sentence_by_lemma(sentence, interesting_lemma):\n",
    "    lemma = [lemma.text.lower() for lemma in sentence if not lemma.is_space and not lemma.is_punct]\n",
    "    if len(lemma) == 0:\n",
    "        return 0\n",
    "    interesting_count = sum(1 for lemma in lemma if lemma in interesting_lemma)\n",
    "    return interesting_count / len(lemma)\n",
    "\n",
    "# Load the spaCy pipeline\n",
    "nlp = spacy.load(\"en_core_web_sm\")\n",
    "doc = nlp(lyrics_text)\n",
    "\n",
    "# Interesting tokens (from question 3)\n",
    "interesting_lemma = [\"run\", \"band\", \"search\", \"inside\", \"see\"]\n",
    "\n",
    "# List to store token scores of each sentence\n",
    "lemma_scores = []\n",
    "\n",
    "# Count (iterate) over each sentence in the document and calculate token scores\n",
    "for sentence in doc.sents:\n",
    "    score = score_sentence_by_lemma(sentence, interesting_lemma)\n",
    "    lemma_scores.append(score)\n",
    "\n",
    "# Plot the histogram of token scores\n",
    "plt.figure(figsize=(8, 5))\n",
    "plt.barh(list(filtered_counts.keys()), list(filtered_counts.values()), color='yellow')\n",
    "plt.title(\"Frequency of Interesting Lemmas\")\n",
    "plt.xlabel(\"Frequency\")\n",
    "plt.ylabel(\"Lemmas\")\n",
    "plt.grid(axis=\"x\", linestyle=\"--\", alpha=0.7)\n",
    "plt.show()\n",
    "\n",
    "# The most common lemmas are \"See\" is 0.0, \"inside\" is about 2, \"search\" is about 1, \n",
    "# \" band\" is around 18.8, and \"run\" is approximately 20."
   ]
  },
  {
   "cell_type": "markdown",
   "metadata": {},
   "source": [
    "## Question 7"
   ]
  },
  {
   "cell_type": "markdown",
   "metadata": {},
   "source": [
    "Using the histograms from questions 5 and 6, decide a \"cutoff\" score for tokens and lemmas such that fewer than half the sentences would have a score greater than the cutoff score.  Record the scores in this Markdown cell\n",
    "\n",
    "* Cutoff Score (tokens): \n",
    "* Cutoff Score (lemmas):\n",
    "\n",
    "Feel free to change these scores as you generate your summaries.  Ideally, we're shooting for at least 6 sentences for our summary, but don't want more than 10 (these numbers are rough estimates; they depend on the length of your article)."
   ]
  },
  {
   "cell_type": "code",
   "execution_count": 20,
   "metadata": {},
   "outputs": [
    {
     "name": "stdout",
     "output_type": "stream",
     "text": [
      "Cutoff Score (tokens): 1.60\n",
      "Sentences above cutoff (tokens): 3\n",
      "Cutoff Score (lemmas): 1.60\n",
      "Sentences above cutoff (lemmas): 3\n"
     ]
    }
   ],
   "source": [
    "import numpy as np\n",
    "\n",
    "# Define sentence scores (replace these with your actual data)\n",
    "# Example token and lemma scores (replace with your data from the histograms)\n",
    "sentence_token_scores = [0.0, 2.0, 1.0, 18.8, 20.0]\n",
    "sentence_lemma_scores = [0.0, 2.0, 1.0, 18.8, 20.0]\n",
    "\n",
    "# Determine cutoff for tokens\n",
    "token_cutoff = np.percentile(sentence_token_scores, 40)  # 50th percentile (median)\n",
    "token_sentences_above_cutoff = sum(score > token_cutoff for score in sentence_token_scores)\n",
    "\n",
    "# Determine cutoff for lemmas\n",
    "lemma_cutoff = np.percentile(sentence_lemma_scores, 40)  # 50th percentile (median)\n",
    "lemma_sentences_above_cutoff = sum(score > lemma_cutoff for score in sentence_lemma_scores)\n",
    "\n",
    "# Print results\n",
    "print(f\"Cutoff Score (tokens): {token_cutoff:.2f}\")\n",
    "print(f\"Sentences above cutoff (tokens): {token_sentences_above_cutoff}\")\n",
    "print(f\"Cutoff Score (lemmas): {lemma_cutoff:.2f}\")\n",
    "print(f\"Sentences above cutoff (lemmas): {lemma_sentences_above_cutoff}\")\n"
   ]
  },
  {
   "cell_type": "markdown",
   "metadata": {},
   "source": [
    "## Question 8"
   ]
  },
  {
   "cell_type": "markdown",
   "metadata": {},
   "source": [
    "Create a summary of the article by going through every sentence in the article and adding it to an (initially) empty list if its score (based on tokens) is greater than the cutoff score you identified in question 8.  If your loop variable is named `sent`, you may find it easier to add `sent.text.strip()` to your list of sentences.  Print the summary (I would cleanly generate the summary text by `join`ing the strings in your list together with a space (`' '.join(sentence_list)`)."
   ]
  },
  {
   "cell_type": "code",
   "execution_count": 30,
   "metadata": {},
   "outputs": [
    {
     "name": "stdout",
     "output_type": "stream",
     "text": [
      "Token-Based Summary of the Lyrics:\n",
      "Stuck inside these four walls, \n",
      "Sent inside forever, \n",
      "Never seeing no one \n",
      "Nice again like you, \n",
      "Mama you, mama you. If I ever get out of here, \n",
      "\n",
      "Thought of giving it all away \n",
      "\n",
      "To a registered charity. All I need is a pint a day \n",
      "\n",
      "If I ever get out of here. Well, the rain exploded with a mighty crash \n",
      "\n",
      "As we fell into the sun, \n",
      "\n",
      "And the first one said to the second one there \n",
      "\n",
      "I hope you're having fun. And the jailer man and sailor sam \n",
      "\n",
      "Were searching every one \n",
      "\n",
      "For the band on the run, band on the run \n",
      "\n",
      "Band on the run, band on the run. Well, the undertaker drew a heavy sigh \n",
      "\n",
      "Seeing no one else had come, \n",
      "\n",
      "And a bell was ringing in the village square \n",
      "\n",
      "For the rabbits on the run. And the jailer man and sailor sam \n",
      "\n",
      "Were searching every one \n",
      "\n",
      "For the band on the run, band on the run \n",
      "\n",
      "Band on the run, band on the run. Well, the night was falling as the desert world \n",
      "\n",
      "Began to settle down. In the town they're searching for us every where \n",
      "\n",
      "But we never w ill be found. And the county judge who held a grudge \n",
      "\n",
      "Will search for evermore \n",
      "\n",
      "For the band on the run, band on the run \n",
      "\n",
      "Band on the run band on the run, \n",
      "\n",
      "\n",
      "\n",
      "Band on the run.\n"
     ]
    }
   ],
   "source": [
    "import requests\n",
    "import spacy\n",
    "import matplotlib.pyplot as plt\n",
    "from collections import Counter\n",
    "\n",
    "# Grab lyrics from the API\n",
    "response = requests.get('https://api.lyrics.ovh/v1/Paul McCartney/Band On The Run')\n",
    "result = response.json()  # Parse the JSON response\n",
    "lyrics_text = result.get(\"lyrics\", \"\")  # Get the lyrics from the JSON response\n",
    "\n",
    "# Load the spaCy model\n",
    "nlp = spacy.load('en_core_web_sm')\n",
    "\n",
    "# Set your cutoff score for tokens\n",
    "cutoff_score_tokens = 0.03  # Tokens threshold as a percentage of total tokens\n",
    "\n",
    "# Process the lyrics text \n",
    "doc = nlp(lyrics_text)\n",
    "\n",
    "# Calculate total number of tokens in document\n",
    "total_tokens = len([token for token in doc if not token.is_punct])\n",
    "\n",
    "# Initialize an empty list to store sentences that meet the cutoff score for tokens\n",
    "sentence_list_tokens = []\n",
    "\n",
    "# Iterate over each sentence in the document\n",
    "for sent in doc.sents:\n",
    "    # Calculate the token count for the sentence\n",
    "    token_count = len([token for token in sent if not token.is_punct])\n",
    "    \n",
    "    # Calculate the percentage of tokens in the sentence\n",
    "    token_percentage = token_count / total_tokens\n",
    "    \n",
    "    # Add sentence to the list if the token percentage exceeds the cutoff score\n",
    "    if token_percentage > cutoff_score_tokens:\n",
    "        sentence_list_tokens.append(sent.text.strip())\n",
    "\n",
    "# Generate the token-based summary by joining the selected sentences with a space\n",
    "summary_tokens = ' '.join(sentence_list_tokens)\n",
    "\n",
    "# Print the token-based summary\n",
    "print(\"Token-Based Summary of the Lyrics:\")\n",
    "print(summary_tokens)"
   ]
  },
  {
   "cell_type": "markdown",
   "metadata": {},
   "source": [
    "## Question 9"
   ]
  },
  {
   "cell_type": "markdown",
   "metadata": {},
   "source": [
    "Print the polarity score of your summary you generated with the token scores (with an appropriate label). Additionally, print the number of sentences in the summarized article."
   ]
  },
  {
   "cell_type": "code",
   "execution_count": 33,
   "metadata": {},
   "outputs": [
    {
     "name": "stdout",
     "output_type": "stream",
     "text": [
      "Polarity Score of Summary: 0.18\n",
      "Number of Sentences in the Summary: 12\n"
     ]
    }
   ],
   "source": [
    "import spacy\n",
    "from spacytextblob.spacytextblob import SpacyTextBlob\n",
    "\n",
    "# Load the spaCy model\n",
    "nlp = spacy.load('en_core_web_sm')\n",
    "\n",
    "# Add the TextBlob component to the spaCy pipeline\n",
    "nlp.add_pipe('spacytextblob')\n",
    "\n",
    "# Assuming summary_tokens is already defined from your previous code\n",
    "summary_tokens = ' '.join(sentence_list_tokens)\n",
    "\n",
    "# Check if the summary is not empty\n",
    "if summary_tokens:\n",
    "    # Calculate the polarity score of the summary\n",
    "    summary_doc = nlp(summary_tokens)\n",
    "    summary_polarity = summary_doc._.blob.polarity\n",
    "\n",
    "    # Count the number of sentences in the summary\n",
    "    num_summary_sentences = len(list(summary_doc.sents))\n",
    "\n",
    "    # Print the results\n",
    "    print(f\"Polarity Score of Summary: {summary_polarity:.2f}\")\n",
    "    print(f\"Number of Sentences in the Summary: {num_summary_sentences}\")\n",
    "else:\n",
    "    print(\"The summary is empty. No polarity score or sentence count available.\")"
   ]
  },
  {
   "cell_type": "markdown",
   "metadata": {},
   "source": [
    "## Question 10"
   ]
  },
  {
   "cell_type": "markdown",
   "metadata": {},
   "source": [
    "Create a summary of the article by going through every sentence in the article and adding it to an (initially) empty list if its score (based on lemmas) is greater than the cutoff score you identified in question 8.  If your loop variable is named `sent`, you may find it easier to add `sent.text.strip()` to your list of sentences.  Print the summary (I would cleanly generate the summary text by `join`ing the strings in your list together with a space (`' '.join(sentence_list)`)."
   ]
  },
  {
   "cell_type": "code",
   "execution_count": 34,
   "metadata": {},
   "outputs": [
    {
     "name": "stdout",
     "output_type": "stream",
     "text": [
      "Lemma-Based Summary of the Lyrics:\n",
      "Stuck inside these four walls, \n",
      "Sent inside forever, \n",
      "Never seeing no one \n",
      "Nice again like you, \n",
      "Mama you, mama you. If I ever get out of here, \n",
      "\n",
      "Thought of giving it all away \n",
      "\n",
      "To a registered charity. All I need is a pint a day \n",
      "\n",
      "If I ever get out of here. Well, the rain exploded with a mighty crash \n",
      "\n",
      "As we fell into the sun, \n",
      "\n",
      "And the first one said to the second one there \n",
      "\n",
      "I hope you're having fun. And the jailer man and sailor sam \n",
      "\n",
      "Were searching every one \n",
      "\n",
      "For the band on the run, band on the run \n",
      "\n",
      "Band on the run, band on the run. Well, the undertaker drew a heavy sigh \n",
      "\n",
      "Seeing no one else had come, \n",
      "\n",
      "And a bell was ringing in the village square \n",
      "\n",
      "For the rabbits on the run. And the jailer man and sailor sam \n",
      "\n",
      "Were searching every one \n",
      "\n",
      "For the band on the run, band on the run \n",
      "\n",
      "Band on the run, band on the run. Well, the night was falling as the desert world \n",
      "\n",
      "Began to settle down. In the town they're searching for us every where \n",
      "\n",
      "But we never w ill be found. And the county judge who held a grudge \n",
      "\n",
      "Will search for evermore \n",
      "\n",
      "For the band on the run, band on the run \n",
      "\n",
      "Band on the run band on the run, \n",
      "\n",
      "\n",
      "\n",
      "Band on the run.\n"
     ]
    }
   ],
   "source": [
    "import requests\n",
    "import spacy\n",
    "from spacytextblob.spacytextblob import SpacyTextBlob\n",
    "\n",
    "# Grab lyrics from the API\n",
    "response = requests.get('https://api.lyrics.ovh/v1/Paul McCartney/Band On The Run')\n",
    "result = response.json()  # Parse the JSON response\n",
    "lyrics_text = result.get(\"lyrics\", \"\")  # Get the lyrics from the JSON response\n",
    "\n",
    "# Load the spaCy model\n",
    "nlp = spacy.load('en_core_web_sm')\n",
    "\n",
    "# Add the TextBlob component to the spaCy pipeline\n",
    "nlp.add_pipe('spacytextblob')\n",
    "\n",
    "# Set your cutoff score for lemmas\n",
    "cutoff_score_lemmas = 0.03  # Lemmas threshold as a percentage of total lemmas\n",
    "\n",
    "# Process the lyrics text\n",
    "doc = nlp(lyrics_text)\n",
    "\n",
    "# Calculate the total number of lemmas in the document\n",
    "total_lemmas = len([token.lemma_ for token in doc if not token.is_punct])\n",
    "\n",
    "# Initialize an empty list to store sentences that meet the cutoff score for lemmas\n",
    "sentence_list_lemmas = []\n",
    "\n",
    "# Iterate over each sentence in the document\n",
    "for sent in doc.sents:\n",
    "    # Calculate the lemma count for the sentence\n",
    "    lemma_count = len([token.lemma_ for token in sent if not token.is_punct])\n",
    "    \n",
    "    # Calculate the percentage of lemmas in the sentence\n",
    "    lemma_percentage = lemma_count / total_lemmas\n",
    "    \n",
    "    # Add sentence to the list if the lemma percentage exceeds the cutoff score\n",
    "    if lemma_percentage > cutoff_score_lemmas:\n",
    "        sentence_list_lemmas.append(sent.text.strip())\n",
    "\n",
    "# Generate the lemma-based summary by joining the selected sentences with a space\n",
    "summary_lemmas = ' '.join(sentence_list_lemmas)\n",
    "\n",
    "# Print the lemma-based summary\n",
    "print(\"Lemma-Based Summary of the Lyrics:\")\n",
    "print(summary_lemmas)\n",
    "\n"
   ]
  },
  {
   "cell_type": "markdown",
   "metadata": {},
   "source": [
    "## Question 11"
   ]
  },
  {
   "cell_type": "markdown",
   "metadata": {},
   "source": [
    "Print the polarity score of your summary you generated with the lemma scores (with an appropriate label). Additionally, print the number of sentences in the summarized article."
   ]
  },
  {
   "cell_type": "code",
   "execution_count": 37,
   "metadata": {},
   "outputs": [
    {
     "name": "stdout",
     "output_type": "stream",
     "text": [
      "Polarity Score of Summary: 0.18\n",
      "Number of Sentences in the Summary: 12\n"
     ]
    }
   ],
   "source": [
    "\n",
    "# Calculate the polarity score of the summary\n",
    "summary_doc = nlp(summary_lemmas)\n",
    "summary_polarity = summary_doc._.blob.polarity\n",
    "\n",
    "# Count the number of sentences in the summary\n",
    "num_summary_sentences = len(list(summary_doc.sents))\n",
    "\n",
    "# Print the results\n",
    "print(f\"Polarity Score of Summary: {summary_polarity:.2f}\")\n",
    "print(f\"Number of Sentences in the Summary: {num_summary_sentences}\")"
   ]
  },
  {
   "cell_type": "markdown",
   "metadata": {},
   "source": [
    "## Question 12"
   ]
  },
  {
   "cell_type": "markdown",
   "metadata": {},
   "source": [
    "Compare your polarity scores of your summaries to the polarity scores of the initial article.  Is there a difference?  Why do you think that may or may not be?.  Answer in this Markdown cell.  "
   ]
  },
  {
   "cell_type": "code",
   "execution_count": null,
   "metadata": {},
   "outputs": [],
   "source": [
    "# The polarity score comparison were shown to be equal.\n",
    "\n",
    "# From question 9.\n",
    "# Polarity Score of Summary: 0.18\n",
    "# Number of Sentences in the Summary: 12\n",
    "\n",
    "# From question 10.\n",
    "# Polarity Score of Summary: 0.18\n",
    "# Number of Sentences in the Summary: 12\n",
    "\n",
    "# There was no difference that I can tell. \n",
    "# I may have made some mistakes along the way, but not sure where to locate them."
   ]
  },
  {
   "cell_type": "markdown",
   "metadata": {},
   "source": [
    "## Question 13"
   ]
  },
  {
   "cell_type": "markdown",
   "metadata": {},
   "source": [
    "Based on your reading of the original article, which summary do you think is better (if there's a difference).  Why do you think this might be?"
   ]
  },
  {
   "cell_type": "code",
   "execution_count": null,
   "metadata": {},
   "outputs": [],
   "source": [
    "# Since there doesn't appear to be difference in the polarity scores,\n",
    "# I don't believe either one was better than the other. \n",
    "# Again, I may have made a mistake with my coding along the way."
   ]
  }
 ],
 "metadata": {
  "kernelspec": {
   "display_name": ".env",
   "language": "python",
   "name": "python3"
  },
  "language_info": {
   "codemirror_mode": {
    "name": "ipython",
    "version": 3
   },
   "file_extension": ".py",
   "mimetype": "text/x-python",
   "name": "python",
   "nbconvert_exporter": "python",
   "pygments_lexer": "ipython3",
   "version": "3.12.2"
  }
 },
 "nbformat": 4,
 "nbformat_minor": 4
}
